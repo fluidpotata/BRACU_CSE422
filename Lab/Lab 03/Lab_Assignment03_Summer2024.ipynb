{
 "cells": [
  {
   "cell_type": "markdown",
   "metadata": {},
   "source": [
    "# Task 01"
   ]
  },
  {
   "cell_type": "code",
   "execution_count": null,
   "metadata": {
    "vscode": {
     "languageId": "plaintext"
    }
   },
   "outputs": [],
   "source": [
    "import random\n",
    "\n",
    "def minmaxAB(depth, alpha, beta, min_or_max):\n",
    "    if depth == 0:\n",
    "        return random.choice([-1,1])\n",
    "\n",
    "    if min_or_max == 1:\n",
    "        maxeval = float('-inf')\n",
    "        for child in range(2):\n",
    "            teval = minmaxAB(depth - 1, alpha, beta, 0)\n",
    "            maxeval = max(maxeval, teval)\n",
    "            alpha = max(alpha, teval)\n",
    "            if beta <= alpha:\n",
    "                break\n",
    "        return maxeval\n",
    "\n",
    "    if min_or_max == 0:\n",
    "        mineval = float('inf')\n",
    "        for child in range(2):\n",
    "            teval = minmaxAB(depth - 1, alpha, beta, 1)\n",
    "            mineval = min(mineval, teval)\n",
    "            beta = min(beta, teval)\n",
    "            if beta <= alpha:\n",
    "                break\n",
    "        return mineval\n",
    "\n",
    "inp = int(input('┌── Who starts first?\\n|   \"0\" for Scorpion\\n|   \"1\" for Sub Zero\\n└─> '))\n",
    "alpha = float('-inf')\n",
    "beta = float('inf')\n",
    "result = []\n",
    "depth = random.randint(0,5)\n",
    "for i in range(3):\n",
    "    result.append(minmaxAB(depth, alpha, beta, inp))\n",
    "    print(depth)\n",
    "    if inp==0:\n",
    "        inp=1\n",
    "    elif inp==1:\n",
    "        inp=0\n",
    "res = 0\n",
    "for i in result:\n",
    "    res += i\n",
    "\n",
    "data = {1:\"Sub-Zero\", -1:\"Scorpion\"}\n",
    "\n",
    "if res>0:\n",
    "    res = 1\n",
    "else:\n",
    "    res = -1\n",
    "\n",
    "print(f\"\"\"Game Winner: {data[res]}\n",
    "Total Rounds Played: 3\n",
    "Winner of Round 1: {data[result[0]]}\n",
    "Winner of Round 2: {data[result[1]]}\n",
    "Winner of Round 3: {data[result[2]]}\n",
    "\"\"\")"
   ]
  },
  {
   "cell_type": "markdown",
   "metadata": {},
   "source": [
    "# Task 02"
   ]
  },
  {
   "cell_type": "code",
   "execution_count": null,
   "metadata": {
    "vscode": {
     "languageId": "plaintext"
    }
   },
   "outputs": [],
   "source": [
    "import random\n",
    "\n",
    "\n",
    "def minmaxAB(state, item, depth, alpha, beta, min_or_max, c):\n",
    "    if depth == 0:\n",
    "        return state[item]\n",
    "\n",
    "    if min_or_max == 1:\n",
    "        maxeval = float('-inf')\n",
    "        for child in [2*item+1, 2*item+2]:\n",
    "            teval = minmaxAB(state, child, depth - 1, alpha, beta, 0, c)\n",
    "            maxeval = max(maxeval, teval)\n",
    "            alpha = max(alpha, teval)\n",
    "            if beta <= alpha:\n",
    "                break\n",
    "        return maxeval\n",
    "\n",
    "    if min_or_max == 0:\n",
    "        mineval = float('inf')\n",
    "        maxmagic = float('-inf')\n",
    "        for child in [2*item+1, 2*item+2]:\n",
    "            teval = minmaxAB(state, child, depth - 1, alpha, beta, 1, c)\n",
    "            mineval = min(mineval, teval)\n",
    "            if c!=-1:\n",
    "                new = teval-c\n",
    "                maxmagic = max(new, maxmagic)\n",
    "                mineval = max(mineval,maxmagic)\n",
    "            beta = min(beta, mineval)\n",
    "            if beta <= alpha:\n",
    "                break\n",
    "        return mineval\n",
    "def pacman_game(c:int):\n",
    "    state = [0,0,0,0,0,0,0,3,6,2,3,7,1,2,0]\n",
    "    alpha = float('-inf')\n",
    "    beta = float('inf')\n",
    "    res = minmaxAB(state, 0, 3, alpha, beta, 1, c)\n",
    "    print(f\"When magic used: {res}\")\n",
    "    res = minmaxAB(state, 0, 3, alpha, beta, 1, -1)\n",
    "    print(f\"When magic not used: {res}\")\n",
    "\n",
    "c = int(input(\"Enter Cost: \"))\n",
    "pacman_game(c)"
   ]
  }
 ],
 "metadata": {
  "language_info": {
   "name": "python"
  }
 },
 "nbformat": 4,
 "nbformat_minor": 2
}
