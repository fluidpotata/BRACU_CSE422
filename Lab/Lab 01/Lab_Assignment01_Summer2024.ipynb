{
  "cells": [
    {
      "cell_type": "code",
      "execution_count": null,
      "metadata": {
        "colab": {
          "base_uri": "https://localhost:8080/"
        },
        "id": "HWoLpsd6CWgU",
        "outputId": "ac288b4c-ad18-4753-b7ea-1b1fabcc2cd4"
      },
      "outputs": [
        {
          "name": "stdout",
          "output_type": "stream",
          "text": [
            "Path:  Arad -> Sibiu -> RimnicuVilcea -> Pitesti -> Bucharest\n",
            "Total Distance: 418 km\n"
          ]
        }
      ],
      "source": [
        "import heapq\n",
        "\n",
        "\n",
        "def dataInput(file):\n",
        "    with open(file) as inp:\n",
        "        readData = []\n",
        "        data = inp.readline().split()\n",
        "        while data:\n",
        "            readData.append(data)\n",
        "            data = inp.readline().split()\n",
        "    return readData\n",
        "\n",
        "\n",
        "def fixingData(readData):\n",
        "    heuristicValues = {}\n",
        "    realDistances = {}\n",
        "\n",
        "    for i in readData:\n",
        "        heuristicValues[i[0]] = int(i[1])\n",
        "        realDistances[i[0]] = {}\n",
        "        for j in range(2,len(i),2):\n",
        "            realDistances[i[0]][i[j]] = int(i[j+1])\n",
        "    return heuristicValues, realDistances\n",
        "\n",
        "\n",
        "def aStarSearch(heuristicValues,realDistances, start,end):\n",
        "    path = []\n",
        "    pqueue = []\n",
        "    pqueue.append((heuristicValues[start]+0, 0,  start))\n",
        "    found = False\n",
        "    while pqueue:\n",
        "        currNode = heapq.heappop(pqueue)\n",
        "        # print(currNode)\n",
        "        if len(path)<1 or currNode[2] in realDistances[path[-1]].keys():\n",
        "            path.append(currNode[2])\n",
        "            if currNode[2]==end:\n",
        "                found = True\n",
        "                print(\"Path: \", \" -> \".join(path))\n",
        "                print(f\"Total Distance: {currNode[1]} km\")\n",
        "                break\n",
        "\n",
        "            for i in realDistances[currNode[2]].keys():\n",
        "                heapq.heappush(pqueue,(heuristicValues[i]+currNode[1]+realDistances[currNode[2]][i], currNode[1]+realDistances[currNode[2]][i], i))\n",
        "    if not found:\n",
        "        print(\"No path found!\")\n",
        "\n",
        "\n",
        "\n",
        "readData = dataInput(\"22101221_Md Ibrahim Alif_CSE422_09_Lab_Assignment01_InputFile_Summer2024.txt\")\n",
        "heuristicValues, realDistances = fixingData(readData)\n",
        "# aStarSearch(heuristicValues, realDistances, \"Arad\", \"Bucharest\")\n",
        "print(heuristicValues)"
      ]
    },
    {
      "cell_type": "code",
      "execution_count": null,
      "metadata": {},
      "outputs": [],
      "source": [
        "{'Arad': {'Zerind': 75, 'Timisoara': 118, 'Sibiu': 140}, \n",
        " 'Craiova': {'Dobreta': 120, 'RimnicuVilcea': 146, 'Pitesti': 138}, \n",
        " 'Eforie': {'Hirsova': 86}, \n",
        " 'Fagaras': {'Sibiu': 99, 'Bucharest': 211}, \n",
        " 'Giurgiu': {'Bucharest': 90}, \n",
        " 'Mehadia': {'Lugoj': 70, 'Dobreta': 75}, \n",
        " 'Neamt': {'lasi': 87}, \n",
        " 'Sibiu': {'Oradea': 151, 'Arad': 140, 'RimnicuVilcea': 80, 'Fagaras': 99}, \n",
        " 'Oradea': {'Zerind': 71, 'Sibiu': 151}, \n",
        " 'Pitesti': {'RimnicuVilcea': 97, 'Craiova': 138, 'Bucharest': 101}, \n",
        " 'RimnicuVilcea': {'Sibiu': 80, 'Craiova': 146, 'Pitesti': 97}, \n",
        " 'Dobreta': {'Mehadia': 75, 'Craiova': 120}, 'Hirsova': {'Urziceni': 98, 'Eforie': 86}, \n",
        " 'lasi': {'Vaslui': 92, 'Neamt': 87}, \n",
        " 'Lugoj': {'Timisoara': 111, 'Mehadia': 70}, \n",
        " 'Timisoara': {'Arad': 118, 'Lugoj': 111}, \n",
        " 'Urziceni': {'Bucharest': 85, 'Hirsova': 98, 'Vaslui': 142}, \n",
        " 'Vaslui': {'Urziceni': 142, 'lasi': 92}, \n",
        " 'Zerind': {'Oradea': 71, 'Arad': 75}, \n",
        " 'Bucharest': {'Fagaras': 211, 'Pitesti': 101, 'Giurgiu': 90, 'Urziceni': 85}}"
      ]
    }
  ],
  "metadata": {
    "colab": {
      "provenance": []
    },
    "kernelspec": {
      "display_name": "Python 3",
      "name": "python3"
    },
    "language_info": {
      "name": "python"
    }
  },
  "nbformat": 4,
  "nbformat_minor": 0
}
