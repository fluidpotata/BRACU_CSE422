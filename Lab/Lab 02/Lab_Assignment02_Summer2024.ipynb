{
 "cells": [
  {
   "cell_type": "markdown",
   "metadata": {},
   "source": [
    "# Part 01"
   ]
  },
  {
   "cell_type": "code",
   "execution_count": 9,
   "metadata": {},
   "outputs": [
    {
     "name": "stdout",
     "output_type": "stream",
     "text": [
      "[0 1 0 0 0 1 1 0 0]\n",
      "0.0\n"
     ]
    }
   ],
   "source": [
    "import numpy as np\n",
    "\n",
    "\n",
    "def fitness(population:np.ndarray, n:int) -> np.ndarray:\n",
    "    m = len(population)\n",
    "    penalty = np.zeros(m)\n",
    "    for i in range(m):\n",
    "        chromosome = population[i]\n",
    "        slot = chromosome.reshape(n, -1)\n",
    "        overlap, consistent = 0, 0\n",
    "\n",
    "        for j in range(n):\n",
    "            tmp = np.sum(slot[j,:])\n",
    "            overlap += abs(tmp-1)\n",
    "            tmp = np.sum(slot[:,j])\n",
    "            consistent += abs(tmp-1)\n",
    "        penalty[i] = -(overlap+consistent)\n",
    "\n",
    "    return penalty\n",
    "\n",
    "\n",
    "def random_selection(population:np.ndarray) -> np.ndarray:\n",
    "    choices = np.random.choice(len(population), size=2, replace=False)\n",
    "    return population[choices[0]], population[choices[1]]\n",
    "\n",
    "\n",
    "def single_point_crossover(x, y):\n",
    "    l = len(x)\n",
    "    point = np.random.randint(1, l)\n",
    "    off1 = np.concatenate([x[:point], y[point:]])\n",
    "    off2 = np.concatenate([y[:point], x[point:]])\n",
    "    return off1,off2\n",
    "\n",
    "\n",
    "def mutate(child, mutation_threshold=0.3):\n",
    "    n = len(child)\n",
    "    for i in range(n):\n",
    "      x = np.random.random()\n",
    "      if x<mutation_threshold:\n",
    "        child[i] = 1 - child[i]\n",
    "    return child\n",
    "\n",
    "\n",
    "def GA(population, n, mutation_threshold = 0.3):\n",
    "    for k in range(1000):\n",
    "        for i in range(5):\n",
    "            parent1, parent2 = random_selection(population)\n",
    "            offspring1, offspring2 = single_point_crossover(parent1, parent2)\n",
    "            offspring1 = mutate(offspring1)\n",
    "            offspring2 = mutate(offspring2)\n",
    "            population = np.concatenate((population,[offspring1]))\n",
    "            population = np.concatenate((population,[offspring2]))\n",
    "        penalties = fitness(population, n)\n",
    "        best_results = np.argsort(penalties)\n",
    "        best_results = best_results[-10:]\n",
    "        population = np.array(population)[best_results]\n",
    "        penalties = fitness(population, n)\n",
    "        best_res = np.argmax(penalties)\n",
    "        if penalties[best_res]==0:\n",
    "            break\n",
    "    print(population[best_res])\n",
    "    print(penalties[best_res])\n",
    "    return\n",
    "\n",
    "\n",
    "\"\"\"\n",
    "    Driver Code\n",
    "\"\"\"\n",
    "ks = []\n",
    "with open('22101221_Md Ibrahim ALif_CSE422_09_Lab_Assignment02_Summer2024.txt') as f:\n",
    "    store = f.readline().split()\n",
    "    n, t = store\n",
    "    n, t = int(n), int(t)\n",
    "    for i in range(n):\n",
    "        ks.append(f.readline().strip(\"\\n\"))\n",
    "\n",
    "\n",
    "start_population = 10\n",
    "population = np.random.randint(0, 2, (start_population, n*t))\n",
    "GA(population,n)\n"
   ]
  },
  {
   "cell_type": "markdown",
   "metadata": {},
   "source": [
    "# Part 02"
   ]
  },
  {
   "cell_type": "code",
   "execution_count": 2,
   "metadata": {},
   "outputs": [
    {
     "name": "stdout",
     "output_type": "stream",
     "text": [
      "[0 0 1 1 1 0 0 1 0] [0 0 1 0 0 1 1 0 0]\n"
     ]
    }
   ],
   "source": [
    "import numpy as np\n",
    "\n",
    "\n",
    "def random_selection(population:np.ndarray) -> np.ndarray:\n",
    "    choices = np.random.choice(len(population), size=2, replace=False)\n",
    "    return population[choices[0]], population[choices[1]]\n",
    "\n",
    "\n",
    "def two_point_crossover(x,y):\n",
    "    point1 = np.random.randint(1,len(x)-1)\n",
    "    point2 = np.random.randint(point1+1, len(x))\n",
    "    # print(point1,point2)\n",
    "    offspring1 = np.concatenate([x[:point1],y[point1:point2],x[point2:]])\n",
    "    offspring2 = np.concatenate([y[:point1],x[point1:point2],y[point2:]])\n",
    "    # print(offspring1,offspring2)\n",
    "    return offspring1, offspring2\n",
    "\n",
    "\n",
    "def GA(population):\n",
    "    parent1, parent2 = random_selection(population)\n",
    "    offspring1, offspring2 = two_point_crossover(parent1, parent2)\n",
    "    print(offspring1,offspring2)\n",
    "\n",
    "\n",
    "start_population = 10\n",
    "population = np.random.randint(0, 2, (start_population, 9))\n",
    "GA(population)\n",
    "\n"
   ]
  }
 ],
 "metadata": {
  "kernelspec": {
   "display_name": "Python 3",
   "language": "python",
   "name": "python3"
  },
  "language_info": {
   "codemirror_mode": {
    "name": "ipython",
    "version": 3
   },
   "file_extension": ".py",
   "mimetype": "text/x-python",
   "name": "python",
   "nbconvert_exporter": "python",
   "pygments_lexer": "ipython3",
   "version": "3.10.12"
  }
 },
 "nbformat": 4,
 "nbformat_minor": 2
}
